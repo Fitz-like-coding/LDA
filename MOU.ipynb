{
 "nbformat": 4,
 "nbformat_minor": 2,
 "metadata": {
  "language_info": {
   "name": "python",
   "codemirror_mode": {
    "name": "ipython",
    "version": 3
   },
   "version": "3.7.3"
  },
  "orig_nbformat": 2,
  "file_extension": ".py",
  "mimetype": "text/x-python",
  "name": "python",
  "npconvert_exporter": "python",
  "pygments_lexer": "ipython3",
  "version": 3
 },
 "cells": [
  {
   "cell_type": "code",
   "execution_count": 9,
   "metadata": {},
   "outputs": [],
   "source": [
    "import numpy as np \n",
    "from scipy.stats import dirichlet"
   ]
  },
  {
   "cell_type": "code",
   "execution_count": 10,
   "metadata": {},
   "outputs": [],
   "source": [
    "vocabulary = ['literary', 'literature', 'authors', 'century', 'texts', 'writers', 'economic', 'critique']\n",
    "doc_term = np.array([[0,0,0,4,0,0,2,5],\n",
    "                    [0,0,0,0,0,0,6,11],\n",
    "                    [0,0,0,3,0,0,8,0],\n",
    "                    [0,0,0,2,1,0,6,16],\n",
    "                    [0,1,0,5,1,0,3,13],\n",
    "                    [0,0,0,0,0,0,5,6],\n",
    "                    [10,3,0,4,0,1,0,0],\n",
    "                    [13,1,7,0,0,5,0,0],\n",
    "                    [7,3,0,4,1,8,0,0],\n",
    "                    [20,14,3,0,0,0,0,0],\n",
    "                    [5,6,5,0,0,10,0,0],\n",
    "                    [9,7,0,2,0,1,0,0],\n",
    "                    [3,5,3,0,0,6,0,0],\n",
    "                    [8,13,3,1,1,3,0,0],\n",
    "                    [9,3,4,0,0,6,0,0],\n",
    "                    [11,7,4,0,1,6,0,0],\n",
    "                    [2,3,0,1,1,1,0,0],\n",
    "                    [5,2,13,0,0,5,0,0],\n",
    "                    [7,3,6,1,0,11,0,0],\n",
    "                    [5,9,8,2,0,4,0,0]])\n",
    "K = 2\n",
    "V = 8\n",
    "Alpha = [1] * K\n",
    "Beta = [[1] * V] * K"
   ]
  },
  {
   "cell_type": "code",
   "execution_count": 11,
   "metadata": {},
   "outputs": [
    {
     "name": "stdout",
     "output_type": "stream",
     "text": "[[1.76368128e-01 4.16443022e-01 3.73851146e-05 1.17668808e-01\n  5.18736312e-02 3.16661272e-02 6.73677889e-02 1.38575110e-01]\n [7.83659131e-02 1.19995567e-01 8.42399284e-02 1.79208850e-01\n  3.54616815e-02 3.26314563e-01 4.30543290e-03 1.72108064e-01]]\n[[0.29751149 0.70248851]]\n"
    }
   ],
   "source": [
    "Phi = dirichlet.rvs(Beta[0], size=K, random_state=1)\n",
    "Theta = dirichlet.rvs(Alpha, random_state=1)\n",
    "print (Phi)\n",
    "print (Theta)"
   ]
  },
  {
   "cell_type": "code",
   "execution_count": 12,
   "metadata": {},
   "outputs": [],
   "source": [
    "Z = [Alpha] * doc_term.shape[0] * Theta"
   ]
  },
  {
   "cell_type": "code",
   "execution_count": 13,
   "metadata": {},
   "outputs": [],
   "source": [
    "itr = 0\n",
    "while itr <= 600:\n",
    "    # update Phi and Beta\n",
    "    e = Beta + np.multiply(doc_term, Z.T.reshape(K, doc_term.shape[0],1)).sum(axis=1) - 1 + 1e-20\n",
    "    # Beta = Beta + np.multiply(doc_term, Theta.reshape(K, 1, -1)).sum(axis=1)\n",
    "    for k in range(len(e)):\n",
    "        Phi[k] = dirichlet.rvs(e[k], random_state=1)\n",
    "\n",
    "    # update Z\n",
    "    temp = np.power(np.repeat(Phi.reshape(Phi.shape[0], -1, Phi.shape[1]), doc_term.shape[0], axis=1), doc_term)\n",
    "    temp = np.prod(temp,axis=2)\n",
    "    Z = np.multiply(temp, Z.T).T\n",
    "    Z = Z/Z.sum(axis=1,keepdims=True)\n",
    "\n",
    "    # update Theta and Alpha\n",
    "    d = Alpha + Z.sum(axis=0, keepdims=True)\n",
    "    Theta = dirichlet.rvs(d[0], random_state=1)\n",
    "\n",
    "    itr += 1"
   ]
  },
  {
   "cell_type": "code",
   "execution_count": 14,
   "metadata": {},
   "outputs": [
    {
     "data": {
      "text/plain": "array([[3.91612389e-01, 2.17854794e-01, 1.53873394e-01, 3.24544311e-02,\n        2.41278216e-02, 1.80077170e-01, 0.00000000e+00, 0.00000000e+00],\n       [0.00000000e+00, 1.14528652e-06, 0.00000000e+00, 9.98518312e-02,\n        3.13639104e-03, 0.00000000e+00, 2.52576430e-01, 6.44434202e-01]])"
     },
     "execution_count": 14,
     "metadata": {},
     "output_type": "execute_result"
    }
   ],
   "source": [
    "Phi"
   ]
  },
  {
   "cell_type": "code",
   "execution_count": 15,
   "metadata": {},
   "outputs": [
    {
     "data": {
      "text/plain": "array([[0., 1.],\n       [0., 1.],\n       [0., 1.],\n       [0., 1.],\n       [0., 1.],\n       [0., 1.],\n       [1., 0.],\n       [1., 0.],\n       [1., 0.],\n       [1., 0.],\n       [1., 0.],\n       [1., 0.],\n       [1., 0.],\n       [1., 0.],\n       [1., 0.],\n       [1., 0.],\n       [1., 0.],\n       [1., 0.],\n       [1., 0.],\n       [1., 0.]])"
     },
     "execution_count": 15,
     "metadata": {},
     "output_type": "execute_result"
    }
   ],
   "source": [
    "Z"
   ]
  },
  {
   "cell_type": "code",
   "execution_count": 16,
   "metadata": {},
   "outputs": [
    {
     "data": {
      "text/plain": "array([[0.80721067, 0.19278933]])"
     },
     "execution_count": 16,
     "metadata": {},
     "output_type": "execute_result"
    }
   ],
   "source": [
    "Theta"
   ]
  },
  {
   "cell_type": "code",
   "execution_count": null,
   "metadata": {},
   "outputs": [],
   "source": []
  },
  {
   "cell_type": "code",
   "execution_count": null,
   "metadata": {},
   "outputs": [],
   "source": []
  }
 ]
}