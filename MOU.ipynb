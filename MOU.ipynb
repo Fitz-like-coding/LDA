{
 "nbformat": 4,
 "nbformat_minor": 2,
 "metadata": {
  "language_info": {
   "name": "python",
   "codemirror_mode": {
    "name": "ipython",
    "version": 3
   },
   "version": "3.7.5"
  },
  "orig_nbformat": 2,
  "file_extension": ".py",
  "mimetype": "text/x-python",
  "name": "python",
  "npconvert_exporter": "python",
  "pygments_lexer": "ipython3",
  "version": 3
 },
 "cells": [
  {
   "cell_type": "code",
   "execution_count": 1,
   "metadata": {},
   "outputs": [],
   "source": [
    "import numpy as np \n",
    "from scipy.stats import dirichlet"
   ]
  },
  {
   "cell_type": "code",
   "execution_count": 2,
   "metadata": {},
   "outputs": [],
   "source": [
    "vocabulary = ['literary', 'literature', 'authors', 'century', 'texts', 'writers', 'economic', 'critique']\n",
    "doc_term = np.array([[0,0,0,4,0,0,2,5],\n",
    "                    [0,0,0,0,0,0,6,11],\n",
    "                    [0,0,0,3,0,0,8,0],\n",
    "                    [0,0,0,2,1,0,6,16],\n",
    "                    [0,1,0,5,1,0,3,13],\n",
    "                    [0,0,0,0,0,0,5,6],\n",
    "                    [10,3,0,4,0,1,0,0],\n",
    "                    [13,1,7,0,0,5,0,0],\n",
    "                    [7,3,0,4,1,8,0,0],\n",
    "                    [20,14,3,0,0,0,0,0],\n",
    "                    [5,6,5,0,0,10,0,0],\n",
    "                    [9,7,0,2,0,1,0,0],\n",
    "                    [3,5,3,0,0,6,0,0],\n",
    "                    [8,13,3,1,1,3,0,0],\n",
    "                    [9,3,4,0,0,6,0,0],\n",
    "                    [11,7,4,0,1,6,0,0],\n",
    "                    [2,3,0,1,1,1,0,0],\n",
    "                    [5,2,13,0,0,5,0,0],\n",
    "                    [7,3,6,1,0,11,0,0],\n",
    "                    [5,9,8,2,0,4,0,0]])\n",
    "K = 2\n",
    "V = 8\n",
    "Alpha = [1] * K\n",
    "Beta = [[1] * V] * K"
   ]
  },
  {
   "cell_type": "code",
   "execution_count": 3,
   "metadata": {},
   "outputs": [
    {
     "name": "stdout",
     "output_type": "stream",
     "text": "[[1.76368128e-01 4.16443022e-01 3.73851146e-05 1.17668808e-01\n  5.18736312e-02 3.16661272e-02 6.73677889e-02 1.38575110e-01]\n [7.83659131e-02 1.19995567e-01 8.42399284e-02 1.79208850e-01\n  3.54616815e-02 3.26314563e-01 4.30543290e-03 1.72108064e-01]]\n[[0.29751149 0.70248851]]\n"
    }
   ],
   "source": [
    "Phi = dirichlet.rvs(Beta[0], size=K, random_state=1)\n",
    "Theta = dirichlet.rvs(Alpha, random_state=1)\n",
    "print (Phi)\n",
    "print (Theta)"
   ]
  },
  {
   "cell_type": "code",
   "execution_count": 4,
   "metadata": {},
   "outputs": [],
   "source": [
    "Z = [Alpha] * doc_term.shape[0] * Theta"
   ]
  },
  {
   "cell_type": "code",
   "execution_count": 5,
   "metadata": {},
   "outputs": [],
   "source": [
    "itr = 0\n",
    "while itr <= 600:\n",
    "    # update Phi and Beta\n",
    "    e = Beta + np.multiply(doc_term, Z.T.reshape(K, doc_term.shape[0],1)).sum(axis=1) - 1 + 1e-20\n",
    "    # Beta = Beta + np.multiply(doc_term, Theta.reshape(K, 1, -1)).sum(axis=1)\n",
    "    for k in range(len(e)):\n",
    "        Phi[k] = dirichlet.rvs(e[k], size=K, random_state=1)[k]\n",
    "\n",
    "    # update Z\n",
    "    temp = np.power(np.repeat(Phi.reshape(Phi.shape[0], -1, Phi.shape[1]), doc_term.shape[0], axis=1), doc_term)\n",
    "    temp = np.prod(temp,axis=2)\n",
    "    Z = np.multiply(temp, Z.T).T\n",
    "    Z = Z/Z.sum(axis=1,keepdims=True)\n",
    "\n",
    "    # update Theta and Alpha\n",
    "    d = Alpha + Z.sum(axis=0, keepdims=True)\n",
    "    Theta = dirichlet.rvs(d[0], random_state=1)\n",
    "\n",
    "    itr += 1"
   ]
  },
  {
   "cell_type": "code",
   "execution_count": 6,
   "metadata": {},
   "outputs": [
    {
     "data": {
      "text/plain": "array([[0.39161239, 0.21785479, 0.15387339, 0.03245443, 0.02412782,\n        0.18007717, 0.        , 0.        ],\n       [0.        , 0.03241424, 0.        , 0.12249976, 0.00724177,\n        0.        , 0.3274403 , 0.51040393]])"
     },
     "execution_count": 6,
     "metadata": {},
     "output_type": "execute_result"
    }
   ],
   "source": [
    "Phi"
   ]
  },
  {
   "cell_type": "code",
   "execution_count": 7,
   "metadata": {},
   "outputs": [
    {
     "data": {
      "text/plain": "array([[0., 1.],\n       [0., 1.],\n       [0., 1.],\n       [0., 1.],\n       [0., 1.],\n       [0., 1.],\n       [1., 0.],\n       [1., 0.],\n       [1., 0.],\n       [1., 0.],\n       [1., 0.],\n       [1., 0.],\n       [1., 0.],\n       [1., 0.],\n       [1., 0.],\n       [1., 0.],\n       [1., 0.],\n       [1., 0.],\n       [1., 0.],\n       [1., 0.]])"
     },
     "execution_count": 7,
     "metadata": {},
     "output_type": "execute_result"
    }
   ],
   "source": [
    "Z"
   ]
  },
  {
   "cell_type": "code",
   "execution_count": 8,
   "metadata": {},
   "outputs": [
    {
     "data": {
      "text/plain": "array([[0.80721067, 0.19278933]])"
     },
     "execution_count": 8,
     "metadata": {},
     "output_type": "execute_result"
    }
   ],
   "source": [
    "Theta"
   ]
  },
  {
   "cell_type": "code",
   "execution_count": 69,
   "metadata": {},
   "outputs": [
    {
     "data": {
      "text/plain": "array([[33.53760949, 21.37836118, 12.265394  ,  5.15504791,  1.11193891,\n        14.08204897,  4.98951258,  2.6861244 ],\n       [80.46239051, 58.62163882, 43.734606  , 23.84495209,  4.88806109,\n        52.91795103, 25.01048742, 48.3138756 ]])"
     },
     "execution_count": 69,
     "metadata": {},
     "output_type": "execute_result"
    }
   ],
   "source": [
    "(doc_term * Z.T.reshape(2,20,1)).sum(axis=1)"
   ]
  },
  {
   "cell_type": "code",
   "execution_count": 37,
   "metadata": {},
   "outputs": [
    {
     "data": {
      "text/plain": "array([[0.07976803, 0.92023197],\n       [0.06717348, 0.93282652],\n       [0.42643863, 0.57356137],\n       [0.02057136, 0.97942864],\n       [0.01583363, 0.98416637],\n       [0.16889951, 0.83110049],\n       [0.2848792 , 0.7151208 ],\n       [0.35869203, 0.64130797],\n       [0.19637417, 0.80362583],\n       [0.48005591, 0.51994409],\n       [0.14369085, 0.85630915],\n       [0.29298648, 0.70701352],\n       [0.1838633 , 0.8161367 ],\n       [0.23793582, 0.76206418],\n       [0.28351011, 0.71648989],\n       [0.33389667, 0.66610333],\n       [0.30732727, 0.69267273],\n       [0.1573534 , 0.8426466 ],\n       [0.14745557, 0.85254443],\n       [0.11632197, 0.88367803]])"
     },
     "execution_count": 37,
     "metadata": {},
     "output_type": "execute_result"
    }
   ],
   "source": [
    "Z"
   ]
  },
  {
   "cell_type": "code",
   "execution_count": 44,
   "metadata": {},
   "outputs": [
    {
     "ename": "ValueError",
     "evalue": "operands could not be broadcast together with shapes (20,2) (20,8,1) (20,2) ",
     "output_type": "error",
     "traceback": [
      "\u001b[0;31m---------------------------------------------------------------------------\u001b[0m",
      "\u001b[0;31mValueError\u001b[0m                                Traceback (most recent call last)",
      "\u001b[0;32m<ipython-input-44-3cce016d5114>\u001b[0m in \u001b[0;36m<module>\u001b[0;34m\u001b[0m\n\u001b[1;32m      1\u001b[0m \u001b[0mdoc2topic\u001b[0m\u001b[0;34m=\u001b[0m\u001b[0mnp\u001b[0m\u001b[0;34m.\u001b[0m\u001b[0mfull\u001b[0m\u001b[0;34m(\u001b[0m\u001b[0;34m[\u001b[0m\u001b[0;36m20\u001b[0m\u001b[0;34m,\u001b[0m\u001b[0;36m2\u001b[0m\u001b[0;34m]\u001b[0m\u001b[0;34m,\u001b[0m\u001b[0;36m1.\u001b[0m\u001b[0;34m)\u001b[0m\u001b[0;34m\u001b[0m\u001b[0;34m\u001b[0m\u001b[0m\n\u001b[1;32m      2\u001b[0m \u001b[0mdoc2topic\u001b[0m\u001b[0;34m=\u001b[0m\u001b[0mdoc2topic\u001b[0m\u001b[0;34m*\u001b[0m\u001b[0mtopic\u001b[0m\u001b[0;34m\u001b[0m\u001b[0;34m\u001b[0m\u001b[0m\n\u001b[0;32m----> 3\u001b[0;31m \u001b[0mdoc2topic\u001b[0m\u001b[0;34m*=\u001b[0m\u001b[0mword_prob\u001b[0m\u001b[0;34m\u001b[0m\u001b[0;34m\u001b[0m\u001b[0m\n\u001b[0m\u001b[1;32m      4\u001b[0m \u001b[0mdoc2topic\u001b[0m\u001b[0;34m\u001b[0m\u001b[0;34m\u001b[0m\u001b[0m\n",
      "\u001b[0;31mValueError\u001b[0m: operands could not be broadcast together with shapes (20,2) (20,8,1) (20,2) "
     ]
    }
   ],
   "source": [
    "doc2topic=np.full([20,2],1.)\n",
    "doc2topic=doc2topic*topic\n",
    "doc2topic*=word_prob\n",
    "doc2topic"
   ]
  },
  {
   "cell_type": "code",
   "execution_count": null,
   "metadata": {},
   "outputs": [],
   "source": [
    "doc2topic[(doc2topic.sum(axis=1,keepdims=True)==0).repeat(2,axis=1)]=1"
   ]
  }
 ]
}