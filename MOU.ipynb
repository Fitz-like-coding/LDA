{
 "nbformat": 4,
 "nbformat_minor": 2,
 "metadata": {
  "language_info": {
   "name": "python",
   "codemirror_mode": {
    "name": "ipython",
    "version": 3
   },
   "version": "3.7.3"
  },
  "orig_nbformat": 2,
  "file_extension": ".py",
  "mimetype": "text/x-python",
  "name": "python",
  "npconvert_exporter": "python",
  "pygments_lexer": "ipython3",
  "version": 3
 },
 "cells": [
  {
   "cell_type": "code",
   "execution_count": 1,
   "metadata": {},
   "outputs": [],
   "source": [
    "import numpy as np \n",
    "from scipy.stats import dirichlet"
   ]
  },
  {
   "cell_type": "code",
   "execution_count": 2,
   "metadata": {},
   "outputs": [],
   "source": [
    "vocabulary = ['literary', 'literature', 'authors', 'century', 'texts', 'writers', 'economic', 'critique']\n",
    "doc_term = np.array([[0,0,0,4,0,0,2,5],\n",
    "                    [0,0,0,0,0,0,6,11],\n",
    "                    [0,0,0,3,0,0,8,0],\n",
    "                    [0,0,0,2,1,0,6,16],\n",
    "                    [0,1,0,5,1,0,3,13],\n",
    "                    [0,0,0,0,0,0,5,6],\n",
    "                    [10,3,0,4,0,1,0,0],\n",
    "                    [13,1,7,0,0,5,0,0],\n",
    "                    [7,3,0,4,1,8,0,0],\n",
    "                    [20,14,3,0,0,0,0,0],\n",
    "                    [5,6,5,0,0,10,0,0],\n",
    "                    [9,7,0,2,0,1,0,0],\n",
    "                    [3,5,3,0,0,6,0,0],\n",
    "                    [8,13,3,1,1,3,0,0],\n",
    "                    [9,3,4,0,0,6,0,0],\n",
    "                    [11,7,4,0,1,6,0,0],\n",
    "                    [2,3,0,1,1,1,0,0],\n",
    "                    [5,2,13,0,0,5,0,0],\n",
    "                    [7,3,6,1,0,11,0,0],\n",
    "                    [5,9,8,2,0,4,0,0]])\n",
    "K = 2\n",
    "V = 8\n",
    "Alpha = [1] * K\n",
    "Beta = [[1] * V] * K"
   ]
  },
  {
   "cell_type": "code",
   "execution_count": 11,
   "metadata": {},
   "outputs": [
    {
     "name": "stdout",
     "output_type": "stream",
     "text": "[[0.0497942  0.08902216 0.02985343 0.16800195 0.01129531 0.1383063\n  0.15290444 0.36082221]\n [0.05548266 0.19361251 0.00651928 0.23222787 0.17719214 0.08717649\n  0.24595829 0.00183077]]\n[[0.46843441 0.53156559]]\n"
    }
   ],
   "source": [
    "Phi = dirichlet.rvs(Beta[0], size=K, random_state=None)\n",
    "Theta = dirichlet.rvs(Alpha, random_state=None)\n",
    "print (Phi)\n",
    "print (Theta)"
   ]
  },
  {
   "cell_type": "code",
   "execution_count": 12,
   "metadata": {},
   "outputs": [],
   "source": [
    "Z = [Alpha] * doc_term.shape[0] * Theta"
   ]
  },
  {
   "cell_type": "code",
   "execution_count": 13,
   "metadata": {},
   "outputs": [],
   "source": [
    "itr = 0\n",
    "while itr <= 600:\n",
    "    # update Phi and Beta\n",
    "    e = Beta + np.multiply(doc_term, Z.T.reshape(K, doc_term.shape[0],1)).sum(axis=1) - 1 + 1e-20\n",
    "    # Beta = Beta + np.multiply(doc_term, Theta.reshape(K, 1, -1)).sum(axis=1)\n",
    "    for k in range(len(e)):\n",
    "        Phi[k] = dirichlet.rvs(e[k], random_state=None)\n",
    "\n",
    "    # update Z\n",
    "    temp = np.power(np.repeat(Phi.reshape(Phi.shape[0], -1, Phi.shape[1]), doc_term.shape[0], axis=1), doc_term)\n",
    "    temp = np.prod(temp,axis=2)\n",
    "    Z = np.multiply(temp, Z.T).T\n",
    "    Z = Z/Z.sum(axis=1,keepdims=True)\n",
    "\n",
    "    # update Theta and Alpha\n",
    "    d = Alpha + Z.sum(axis=0, keepdims=True)\n",
    "    Theta = dirichlet.rvs(d[0], random_state=None)\n",
    "\n",
    "    itr += 1"
   ]
  },
  {
   "cell_type": "code",
   "execution_count": 14,
   "metadata": {},
   "outputs": [
    {
     "data": {
      "text/plain": "array([[0.        , 0.06285754, 0.        , 0.17728083, 0.01852746,\n        0.        , 0.27863429, 0.46269988],\n       [0.32203296, 0.26621963, 0.12780336, 0.04455966, 0.02188656,\n        0.21749783, 0.        , 0.        ]])"
     },
     "execution_count": 14,
     "metadata": {},
     "output_type": "execute_result"
    }
   ],
   "source": [
    "Phi"
   ]
  },
  {
   "cell_type": "code",
   "execution_count": 15,
   "metadata": {},
   "outputs": [
    {
     "data": {
      "text/plain": "array([[1., 0.],\n       [1., 0.],\n       [1., 0.],\n       [1., 0.],\n       [1., 0.],\n       [1., 0.],\n       [0., 1.],\n       [0., 1.],\n       [0., 1.],\n       [0., 1.],\n       [0., 1.],\n       [0., 1.],\n       [0., 1.],\n       [0., 1.],\n       [0., 1.],\n       [0., 1.],\n       [0., 1.],\n       [0., 1.],\n       [0., 1.],\n       [0., 1.]])"
     },
     "execution_count": 15,
     "metadata": {},
     "output_type": "execute_result"
    }
   ],
   "source": [
    "Z"
   ]
  },
  {
   "cell_type": "code",
   "execution_count": 8,
   "metadata": {},
   "outputs": [
    {
     "data": {
      "text/plain": "array([[0.78377287, 0.21622713]])"
     },
     "execution_count": 8,
     "metadata": {},
     "output_type": "execute_result"
    }
   ],
   "source": [
    "Theta"
   ]
  },
  {
   "cell_type": "code",
   "execution_count": null,
   "metadata": {},
   "outputs": [],
   "source": []
  },
  {
   "cell_type": "code",
   "execution_count": null,
   "metadata": {},
   "outputs": [],
   "source": []
  }
 ]
}