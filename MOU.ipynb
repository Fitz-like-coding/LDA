{
 "nbformat": 4,
 "nbformat_minor": 2,
 "metadata": {
  "language_info": {
   "name": "python",
   "codemirror_mode": {
    "name": "ipython",
    "version": 3
   },
   "version": "3.7.3"
  },
  "orig_nbformat": 2,
  "file_extension": ".py",
  "mimetype": "text/x-python",
  "name": "python",
  "npconvert_exporter": "python",
  "pygments_lexer": "ipython3",
  "version": 3
 },
 "cells": [
  {
   "cell_type": "code",
   "execution_count": 2,
   "metadata": {},
   "outputs": [],
   "source": [
    "import numpy as np \n",
    "from scipy.stats import dirichlet"
   ]
  },
  {
   "cell_type": "code",
   "execution_count": 3,
   "metadata": {},
   "outputs": [],
   "source": [
    "vocabulary = ['literary', 'literature', 'authors', 'century', 'texts', 'writers', 'economic', 'critique']\n",
    "doc_term = np.array([[0,0,0,4,0,0,2,5],\n",
    "                    [0,0,0,0,0,0,6,11],\n",
    "                    [0,0,0,3,0,0,8,0],\n",
    "                    [0,0,0,2,1,0,6,16],\n",
    "                    [0,1,0,5,1,0,3,13],\n",
    "                    [0,0,0,0,0,0,5,6],\n",
    "                    [10,3,0,4,0,1,0,0],\n",
    "                    [13,1,7,0,0,5,0,0],\n",
    "                    [7,3,0,4,1,8,0,0],\n",
    "                    [20,14,3,0,0,0,0,0],\n",
    "                    [5,6,5,0,0,10,0,0],\n",
    "                    [9,7,0,2,0,1,0,0],\n",
    "                    [3,5,3,0,0,6,0,0],\n",
    "                    [8,13,3,1,1,3,0,0],\n",
    "                    [9,3,4,0,0,6,0,0],\n",
    "                    [11,7,4,0,1,6,0,0],\n",
    "                    [2,3,0,1,1,1,0,0],\n",
    "                    [5,2,13,0,0,5,0,0],\n",
    "                    [7,3,6,1,0,11,0,0],\n",
    "                    [5,9,8,2,0,4,0,0]])\n",
    "K = 2\n",
    "V = 8\n",
    "Alpha = [1] * K\n",
    "Beta = [[1] * V] * K"
   ]
  },
  {
   "cell_type": "code",
   "execution_count": 4,
   "metadata": {},
   "outputs": [
    {
     "name": "stdout",
     "output_type": "stream",
     "text": "[[0.11756393 0.37029097 0.21084545 0.06234633 0.04894413 0.05102227\n  0.1230553  0.01593162]\n [0.08260325 0.0782532  0.07261015 0.13870468 0.27601711 0.19341986\n  0.09363471 0.06475703]]\n[[0.50081091 0.49918909]]\n"
    }
   ],
   "source": [
    "Phi = dirichlet.rvs(Beta[0], size=K, random_state=None)\n",
    "Theta = dirichlet.rvs(Alpha, random_state=None)\n",
    "print (Phi)\n",
    "print (Theta)"
   ]
  },
  {
   "cell_type": "code",
   "execution_count": 5,
   "metadata": {},
   "outputs": [],
   "source": [
    "Z = [Alpha] * doc_term.shape[0] * Theta"
   ]
  },
  {
   "cell_type": "code",
   "execution_count": 6,
   "metadata": {},
   "outputs": [],
   "source": [
    "itr = 0\n",
    "while itr <= 600:\n",
    "    # update Phi and Beta\n",
    "    e = Beta + np.multiply(doc_term, Z.T.reshape(K, doc_term.shape[0],1)).sum(axis=1) - 1 + 1e-20\n",
    "    # Beta = Beta + np.multiply(doc_term, Theta.reshape(K, 1, -1)).sum(axis=1)\n",
    "    for k in range(len(e)):\n",
    "        Phi[k] = dirichlet.rvs(e[k], random_state=None)\n",
    "\n",
    "    # update Z\n",
    "    temp = np.power(np.repeat(Phi.reshape(Phi.shape[0], -1, Phi.shape[1]), doc_term.shape[0], axis=1), doc_term)\n",
    "    temp = np.prod(temp,axis=2)\n",
    "    Z = np.multiply(temp, Z.T).T\n",
    "    Z = Z/Z.sum(axis=1,keepdims=True)\n",
    "\n",
    "    # update Theta\n",
    "    d = Alpha + Z.sum(axis=0, keepdims=True)\n",
    "    Theta = dirichlet.rvs(d[0], random_state=None)\n",
    "\n",
    "    itr += 1"
   ]
  },
  {
   "cell_type": "code",
   "execution_count": 16,
   "metadata": {},
   "outputs": [
    {
     "name": "stdout",
     "output_type": "stream",
     "text": "topic  0\nliterary 0.2968616656312561\nliterature 0.22991376909815842\nwriters 0.19783442946375776\nauthors 0.18968698874242493\ncentury 0.0654943673709707\n\ntopic  1\ncritique 0.46118613096837996\neconomic 0.34969415859273306\ncentury 0.1789174802176548\ntexts 0.007286491735817166\nliterature 0.0029157384854150026\n\n"
    }
   ],
   "source": [
    "#topic words distribution\n",
    "for k, p in enumerate(Phi):\n",
    "    print ('topic ',k)\n",
    "    for w in np.argsort(p)[::-1][:5]:\n",
    "        print (vocabulary[w], p[w])\n",
    "    print ()"
   ]
  },
  {
   "cell_type": "code",
   "execution_count": 17,
   "metadata": {},
   "outputs": [
    {
     "name": "stdout",
     "output_type": "stream",
     "text": "Docs Topic0 Topic1\n0 0.0 1.0\n1 0.0 1.0\n2 0.0 1.0\n3 0.0 1.0\n4 0.0 1.0\n5 0.0 1.0\n6 1.0 0.0\n7 1.0 0.0\n8 1.0 0.0\n9 1.0 0.0\n10 1.0 0.0\n11 1.0 0.0\n12 1.0 0.0\n13 1.0 0.0\n14 1.0 0.0\n15 1.0 0.0\n16 1.0 0.0\n17 1.0 0.0\n18 1.0 0.0\n19 1.0 0.0\n"
    }
   ],
   "source": [
    "#doc topic distribution\n",
    "print ('Docs Topic0 Topic1' )\n",
    "for i in range(len(Z)):\n",
    "    print (i, Z[i][0], Z[i][1])"
   ]
  },
  {
   "cell_type": "code",
   "execution_count": null,
   "metadata": {},
   "outputs": [],
   "source": []
  }
 ]
}